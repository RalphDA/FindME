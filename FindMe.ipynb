{
 "cells": [
  {
   "cell_type": "markdown",
   "metadata": {},
   "source": [
    "#### Ce petit programme simple vous permet de trouver un article dans un dataset en fonction de sa référence ou de sa description. Il peut-être utilisé par les services informatiques des entreprises dans les secteurs de l'industrie ou du commerce qui gère de grosses bases de données sur des produits divers."
   ]
  },
  {
   "cell_type": "markdown",
   "metadata": {},
   "source": [
    "##### La fonction conçue de façon interactive permet à un utilisateur de chercher l'article dans deux champs : référence et description"
   ]
  },
  {
   "cell_type": "code",
   "execution_count": 1,
   "metadata": {},
   "outputs": [],
   "source": [
    "def TrouveArticle(tableau):\n",
    "       \n",
    "    #On demande à l'utilisateur d'entrer un code de référence ou une description pour l'article  \n",
    "    print(\"Entrer le code de référence ou la description de l'article recherché : \\n\")\n",
    "    article = input()  \n",
    "        \n",
    "    #On cherche l'article dans le tableau à partir de sa référence \n",
    "    if article in list(tableau.reference) :\n",
    "        statut_recherche = True  #indique que l'article recherché existe\n",
    "        return tableau[tableau[\"reference\"] == article]\n",
    "    \n",
    "    #On cherche l'article dans le tableau à partir de sa description\n",
    "    elif article in list(tableau.description) :\n",
    "        statut_recherche = True   #indique que l'article recherché existe\n",
    "        return tableau[tableau[\"description\"] == article]\n",
    "    \n",
    "    else:\n",
    "        statut_recherche = False  #indique que l'article recherché n'existe pas\n",
    "        return \"L'article recherché ne se trouve pas dans le dataset\""
   ]
  },
  {
   "cell_type": "markdown",
   "metadata": {},
   "source": [
    "##### Test de la fonction avec un dataset de données fictives"
   ]
  },
  {
   "cell_type": "code",
   "execution_count": 2,
   "metadata": {},
   "outputs": [
    {
     "data": {
      "text/html": [
       "<div>\n",
       "<style scoped>\n",
       "    .dataframe tbody tr th:only-of-type {\n",
       "        vertical-align: middle;\n",
       "    }\n",
       "\n",
       "    .dataframe tbody tr th {\n",
       "        vertical-align: top;\n",
       "    }\n",
       "\n",
       "    .dataframe thead th {\n",
       "        text-align: right;\n",
       "    }\n",
       "</style>\n",
       "<table border=\"1\" class=\"dataframe\">\n",
       "  <thead>\n",
       "    <tr style=\"text-align: right;\">\n",
       "      <th></th>\n",
       "      <th>reference</th>\n",
       "      <th>description</th>\n",
       "      <th>poids_unitaire</th>\n",
       "      <th>prix_unitaire</th>\n",
       "    </tr>\n",
       "  </thead>\n",
       "  <tbody>\n",
       "    <tr>\n",
       "      <th>0</th>\n",
       "      <td>A1</td>\n",
       "      <td>Descrip1</td>\n",
       "      <td>6.1</td>\n",
       "      <td>74.4</td>\n",
       "    </tr>\n",
       "    <tr>\n",
       "      <th>1</th>\n",
       "      <td>A2</td>\n",
       "      <td>Descrip2</td>\n",
       "      <td>8.3</td>\n",
       "      <td>78.2</td>\n",
       "    </tr>\n",
       "    <tr>\n",
       "      <th>2</th>\n",
       "      <td>A3</td>\n",
       "      <td>Descrip3</td>\n",
       "      <td>9.4</td>\n",
       "      <td>85.1</td>\n",
       "    </tr>\n",
       "    <tr>\n",
       "      <th>3</th>\n",
       "      <td>A4</td>\n",
       "      <td>Descrip4</td>\n",
       "      <td>12.8</td>\n",
       "      <td>92.2</td>\n",
       "    </tr>\n",
       "    <tr>\n",
       "      <th>4</th>\n",
       "      <td>A5</td>\n",
       "      <td>Descrip5</td>\n",
       "      <td>45.2</td>\n",
       "      <td>430.9</td>\n",
       "    </tr>\n",
       "  </tbody>\n",
       "</table>\n",
       "</div>"
      ],
      "text/plain": [
       "  reference description  poids_unitaire  prix_unitaire\n",
       "0        A1    Descrip1             6.1           74.4\n",
       "1        A2    Descrip2             8.3           78.2\n",
       "2        A3    Descrip3             9.4           85.1\n",
       "3        A4    Descrip4            12.8           92.2\n",
       "4        A5    Descrip5            45.2          430.9"
      ]
     },
     "execution_count": 2,
     "metadata": {},
     "output_type": "execute_result"
    }
   ],
   "source": [
    "#Construction d'un tableau avec des données fictives (version minimaliste avec 5 articles)\n",
    "\n",
    "import pandas as pd\n",
    "\n",
    "liste_article = {\"reference\"      : [\"A1\",\"A2\",\"A3\", \"A4\", \"A5\"],\n",
    "                 \"description\"    : [\"Descrip1\",\"Descrip2\",\"Descrip3\",\"Descrip4\", \"Descrip5\"],\n",
    "                 \"poids_unitaire\" : [6.1,8.3,9.4,12.8,45.2],\n",
    "                 \"prix_unitaire\"  : [74.4, 78.2, 85.1, 92.2,430.9]}\n",
    "\n",
    "tableau = pd.DataFrame(data = liste_article)\n",
    "tableau"
   ]
  },
  {
   "cell_type": "code",
   "execution_count": 3,
   "metadata": {},
   "outputs": [
    {
     "name": "stdout",
     "output_type": "stream",
     "text": [
      "Entrer le code de référence ou la description de l'article recherché : \n",
      "\n"
     ]
    },
    {
     "name": "stdin",
     "output_type": "stream",
     "text": [
      " A3\n"
     ]
    },
    {
     "data": {
      "text/html": [
       "<div>\n",
       "<style scoped>\n",
       "    .dataframe tbody tr th:only-of-type {\n",
       "        vertical-align: middle;\n",
       "    }\n",
       "\n",
       "    .dataframe tbody tr th {\n",
       "        vertical-align: top;\n",
       "    }\n",
       "\n",
       "    .dataframe thead th {\n",
       "        text-align: right;\n",
       "    }\n",
       "</style>\n",
       "<table border=\"1\" class=\"dataframe\">\n",
       "  <thead>\n",
       "    <tr style=\"text-align: right;\">\n",
       "      <th></th>\n",
       "      <th>reference</th>\n",
       "      <th>description</th>\n",
       "      <th>poids_unitaire</th>\n",
       "      <th>prix_unitaire</th>\n",
       "    </tr>\n",
       "  </thead>\n",
       "  <tbody>\n",
       "    <tr>\n",
       "      <th>2</th>\n",
       "      <td>A3</td>\n",
       "      <td>Descrip3</td>\n",
       "      <td>9.4</td>\n",
       "      <td>85.1</td>\n",
       "    </tr>\n",
       "  </tbody>\n",
       "</table>\n",
       "</div>"
      ],
      "text/plain": [
       "  reference description  poids_unitaire  prix_unitaire\n",
       "2        A3    Descrip3             9.4           85.1"
      ]
     },
     "execution_count": 3,
     "metadata": {},
     "output_type": "execute_result"
    }
   ],
   "source": [
    "#Avec un article dont la référence se trouve dans le tableau : A3\n",
    "TrouveArticle(tableau)"
   ]
  },
  {
   "cell_type": "code",
   "execution_count": 4,
   "metadata": {},
   "outputs": [
    {
     "name": "stdout",
     "output_type": "stream",
     "text": [
      "Entrer le code de référence ou la description de l'article recherché : \n",
      "\n"
     ]
    },
    {
     "name": "stdin",
     "output_type": "stream",
     "text": [
      " Descrip4\n"
     ]
    },
    {
     "data": {
      "text/html": [
       "<div>\n",
       "<style scoped>\n",
       "    .dataframe tbody tr th:only-of-type {\n",
       "        vertical-align: middle;\n",
       "    }\n",
       "\n",
       "    .dataframe tbody tr th {\n",
       "        vertical-align: top;\n",
       "    }\n",
       "\n",
       "    .dataframe thead th {\n",
       "        text-align: right;\n",
       "    }\n",
       "</style>\n",
       "<table border=\"1\" class=\"dataframe\">\n",
       "  <thead>\n",
       "    <tr style=\"text-align: right;\">\n",
       "      <th></th>\n",
       "      <th>reference</th>\n",
       "      <th>description</th>\n",
       "      <th>poids_unitaire</th>\n",
       "      <th>prix_unitaire</th>\n",
       "    </tr>\n",
       "  </thead>\n",
       "  <tbody>\n",
       "    <tr>\n",
       "      <th>3</th>\n",
       "      <td>A4</td>\n",
       "      <td>Descrip4</td>\n",
       "      <td>12.8</td>\n",
       "      <td>92.2</td>\n",
       "    </tr>\n",
       "  </tbody>\n",
       "</table>\n",
       "</div>"
      ],
      "text/plain": [
       "  reference description  poids_unitaire  prix_unitaire\n",
       "3        A4    Descrip4            12.8           92.2"
      ]
     },
     "execution_count": 4,
     "metadata": {},
     "output_type": "execute_result"
    }
   ],
   "source": [
    "#Avec un article dont la description se trouve dans le tableau : Descrip4\n",
    "TrouveArticle(tableau)"
   ]
  },
  {
   "cell_type": "code",
   "execution_count": 5,
   "metadata": {},
   "outputs": [
    {
     "name": "stdout",
     "output_type": "stream",
     "text": [
      "Entrer le code de référence ou la description de l'article recherché : \n",
      "\n"
     ]
    },
    {
     "name": "stdin",
     "output_type": "stream",
     "text": [
      " A67\n"
     ]
    },
    {
     "data": {
      "text/plain": [
       "\"L'article recherché ne se trouve pas dans le dataset\""
      ]
     },
     "execution_count": 5,
     "metadata": {},
     "output_type": "execute_result"
    }
   ],
   "source": [
    "#Avec un article dont ni la référence ou la decription ne se trouve dans le tableau : A67 , Descrip49\n",
    "TrouveArticle(tableau)"
   ]
  },
  {
   "cell_type": "code",
   "execution_count": 6,
   "metadata": {},
   "outputs": [
    {
     "name": "stdout",
     "output_type": "stream",
     "text": [
      "Entrer le code de référence ou la description de l'article recherché : \n",
      "\n"
     ]
    },
    {
     "name": "stdin",
     "output_type": "stream",
     "text": [
      " Descrip49\n"
     ]
    },
    {
     "data": {
      "text/plain": [
       "\"L'article recherché ne se trouve pas dans le dataset\""
      ]
     },
     "execution_count": 6,
     "metadata": {},
     "output_type": "execute_result"
    }
   ],
   "source": [
    "TrouveArticle(tableau)"
   ]
  }
 ],
 "metadata": {
  "kernelspec": {
   "display_name": "Python 3",
   "language": "python",
   "name": "python3"
  },
  "language_info": {
   "codemirror_mode": {
    "name": "ipython",
    "version": 3
   },
   "file_extension": ".py",
   "mimetype": "text/x-python",
   "name": "python",
   "nbconvert_exporter": "python",
   "pygments_lexer": "ipython3",
   "version": "3.8.5"
  }
 },
 "nbformat": 4,
 "nbformat_minor": 4
}
